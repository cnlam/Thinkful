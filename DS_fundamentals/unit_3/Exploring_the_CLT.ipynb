{
 "cells": [
  {
   "cell_type": "markdown",
   "metadata": {},
   "source": [
    "# Thinkful Data Science\n",
    "Data Science Fundamentals<br>\n",
    "Unit 3: Statistics for Data Science<br>\n",
    "Lesson 3: The Normal Distribution and the Central Limit Theorem<br>\n",
    "DRILL - Exploring the Central Limit Theorem\n",
    "February 7, 2019"
   ]
  },
  {
   "cell_type": "markdown",
   "metadata": {},
   "source": [
    "## Exercise Problems\n",
    "Create two binomially distributed populations with n equal to 10 and size equal to 10000.  The p-value of population 1 should be 0.2, and the p-value of population 2 should be 0.5.  Using a sample size of 100, calculate the means and standard deviations of your samples.\n",
    "\n",
    "For each of the following tasks, first write what you expect will happen, then code the changes and observe what happens.\n",
    "\n",
    "1. Increase the size of your samples from 100 to 1000, then calculate the means and standard deviations for your new samples and create histograms for each.  Repeat this again, decreasing the size of your samples to 20.  What values change, and what remain the same?\n",
    "\n",
    "2. Change the probability value (p) for population 1 to 0.3, and then take new samples and compute the t-statistic and p-value.  Then cahnge the probability value p for population 1 to 0.4 and do it again.  What changes, and why?\n",
    "\n",
    "3. Change the distribution of your populations from binomial to a distribution of your choice.  Do the sample mean values still accurately represent eh population values?"
   ]
  },
  {
   "cell_type": "code",
   "execution_count": 234,
   "metadata": {},
   "outputs": [],
   "source": [
    "import numpy as np\n",
    "import pandas as pd\n",
    "import scipy\n",
    "import matplotlib.pyplot as plt\n",
    "%matplotlib inline\n",
    "from scipy.stats import ttest_ind"
   ]
  },
  {
   "cell_type": "code",
   "execution_count": 235,
   "metadata": {},
   "outputs": [],
   "source": [
    "# set seed for reproducibility\n",
    "np.random.seed(1)"
   ]
  },
  {
   "cell_type": "markdown",
   "metadata": {},
   "source": [
    "### 1. Increase the size of your samples from 100 to 1000, then calculate the means and standard deviations for your new samples and create histograms for each.  Repeat this again, decreasing the size of your samples to 20.  What values change, and what remain the same?\n",
    "\n",
    "As the sample size increases, the Central Limit Theorem states that the sample means should follow a normal distribution clustered around the true population mean.\n",
    "\n",
    "Increasing the sample size from 100 to 1000 should give a more accurate sample mean and standard deviation.  Decreasing the sample size to only 20 would result in a sample that would be a poor representation of the total population; therefore, it is expected that the sample mean and standard deviation of the sample with only 20 values would deviate more from the population than the larger sample sizes."
   ]
  },
  {
   "cell_type": "markdown",
   "metadata": {},
   "source": [
    "## Generation two binomial populations"
   ]
  },
  {
   "cell_type": "code",
   "execution_count": 236,
   "metadata": {},
   "outputs": [
    {
     "data": {
      "image/png": "[encoded data removed]",
      "text/plain": [
       "<Figure size 432x288 with 1 Axes>"
      ]
     },
     "metadata": {},
     "output_type": "display_data"
    },
    {
     "name": "stdout",
     "output_type": "stream",
     "text": [
      "Population 1: mean = 1.99, std. dev. = 1.26\n",
      "Population 2: mean = 5.01, std. dev. = 1.59\n"
     ]
    }
   ],
   "source": [
    "pop1 = np.random.binomial(10, 0.2, 10000)\n",
    "pop2 = np.random.binomial(10, 0.5, 10000)\n",
    "\n",
    "# plot histograms\n",
    "plt.hist(pop1, color='blue', alpha=0.25, label='Population 1')\n",
    "plt.hist(pop2, color='red', alpha=0.25, label='Population 2')\n",
    "\n",
    "# pop1: add vertical lines for mean and +/- 1 standard deviation\n",
    "plt.axvline(pop1.mean(), color='blue', linestyle='solid', linewidth=2)\n",
    "plt.axvline(pop1.mean() + pop1.std(), color='blue', linestyle='dashed', linewidth=2)\n",
    "plt.axvline(pop1.mean() - pop1.std(), color='blue', linestyle='dashed', linewidth=2)\n",
    "\n",
    "# pop2: add vertical lines for mean and +/- 1 standard deviation\n",
    "plt.axvline(pop2.mean(), color='red', linestyle='solid', linewidth=2)\n",
    "plt.axvline(pop2.mean() + pop2.std(), color='red', linestyle='dashed', linewidth=2)\n",
    "plt.axvline(pop2.mean() - pop2.std(), color='red', linestyle='dashed', linewidth=2)\n",
    "\n",
    "plt.legend(loc='upper right')\n",
    "plt.show()\n",
    "\n",
    "# output mean and standard deviation\n",
    "print(\"Population 1: mean = {0:.2f}, std. dev. = {1:.2f}\".format(pop1.mean(), pop1.std()))\n",
    "print(\"Population 2: mean = {0:.2f}, std. dev. = {1:.2f}\".format(pop2.mean(), pop2.std()))"
   ]
  },
  {
   "cell_type": "code",
   "execution_count": 237,
   "metadata": {},
   "outputs": [
    {
     "data": {
      "image/png": "[encoded data removed]",
      "text/plain": [
       "<Figure size 432x288 with 1 Axes>"
      ]
     },
     "metadata": {},
     "output_type": "display_data"
    },
    {
     "name": "stdout",
     "output_type": "stream",
     "text": [
      "Sample 1: mean = 2.05, std. dev. = 1.18\n",
      "Sample 2: mean = 5.14, std. dev. = 1.44\n"
     ]
    }
   ],
   "source": [
    "sample1 = np.random.choice(pop1, 100, replace=True)\n",
    "sample2 = np.random.choice(pop2, 100, replace=True)\n",
    "\n",
    "# plot histograms\n",
    "plt.hist(sample1, color='blue', alpha=0.25, label='Sample 1')\n",
    "plt.hist(sample2, color='red', alpha=0.25, label='Sample 2')\n",
    "\n",
    "# pop1: add vertical lines for mean and +/- 1 standard deviation\n",
    "plt.axvline(sample1.mean(), color='blue', linestyle='solid', linewidth=2)\n",
    "plt.axvline(sample1.mean() + sample1.std(), color='blue', linestyle='dashed', linewidth=2)\n",
    "plt.axvline(sample1.mean() - sample1.std(), color='blue', linestyle='dashed', linewidth=2)\n",
    "\n",
    "# pop2: add vertical lines for mean and +/- 1 standard deviation\n",
    "plt.axvline(sample2.mean(), color='red', linestyle='solid', linewidth=2)\n",
    "plt.axvline(sample2.mean() + sample2.std(), color='red', linestyle='dashed', linewidth=2)\n",
    "plt.axvline(sample2.mean() - sample2.std(), color='red', linestyle='dashed', linewidth=2)\n",
    "\n",
    "plt.legend(loc='upper right')\n",
    "plt.show()\n",
    "\n",
    "# output mean and standard deviation\n",
    "print(\"Sample 1: mean = {0:.2f}, std. dev. = {1:.2f}\".format(sample1.mean(), sample1.std()))\n",
    "print(\"Sample 2: mean = {0:.2f}, std. dev. = {1:.2f}\".format(sample2.mean(), sample2.std()))"
   ]
  },
  {
   "cell_type": "markdown",
   "metadata": {},
   "source": [
    "## Generating samples with size 100"
   ]
  },
  {
   "cell_type": "code",
   "execution_count": 238,
   "metadata": {},
   "outputs": [
    {
     "data": {
      "image/png": "[encoded data removed]",
      "text/plain": [
       "<Figure size 432x288 with 1 Axes>"
      ]
     },
     "metadata": {},
     "output_type": "display_data"
    },
    {
     "name": "stdout",
     "output_type": "stream",
     "text": [
      "Sample 1: mean = 2.03, std. dev. = 1.32\n",
      "Sample 2: mean = 4.92, std. dev. = 1.24\n"
     ]
    }
   ],
   "source": [
    "sample1 = np.random.choice(pop1, 100, replace=True)\n",
    "sample2 = np.random.choice(pop2, 100, replace=True)\n",
    "\n",
    "# plot histograms\n",
    "plt.hist(sample1, color='blue', alpha=0.25, label='Sample 1')\n",
    "plt.hist(sample2, color='red', alpha=0.25, label='Sample 2')\n",
    "\n",
    "# pop1: add vertical lines for mean and +/- 1 standard deviation\n",
    "plt.axvline(sample1.mean(), color='blue', linestyle='solid', linewidth=2)\n",
    "plt.axvline(sample1.mean() + sample1.std(), color='blue', linestyle='dashed', linewidth=2)\n",
    "plt.axvline(sample1.mean() - sample1.std(), color='blue', linestyle='dashed', linewidth=2)\n",
    "\n",
    "# pop2: add vertical lines for mean and +/- 1 standard deviation\n",
    "plt.axvline(sample2.mean(), color='red', linestyle='solid', linewidth=2)\n",
    "plt.axvline(sample2.mean() + sample2.std(), color='red', linestyle='dashed', linewidth=2)\n",
    "plt.axvline(sample2.mean() - sample2.std(), color='red', linestyle='dashed', linewidth=2)\n",
    "\n",
    "plt.legend(loc='upper right')\n",
    "plt.show()\n",
    "\n",
    "# output mean and standard deviation\n",
    "print(\"Sample 1: mean = {0:.2f}, std. dev. = {1:.2f}\".format(sample1.mean(), sample1.std()))\n",
    "print(\"Sample 2: mean = {0:.2f}, std. dev. = {1:.2f}\".format(sample2.mean(), sample2.std()))"
   ]
  },
  {
   "cell_type": "markdown",
   "metadata": {},
   "source": [
    "## Generating samples with size 1000"
   ]
  },
  {
   "cell_type": "code",
   "execution_count": 239,
   "metadata": {},
   "outputs": [
    {
     "data": {
      "image/png": "[encoded data removed]",
      "text/plain": [
       "<Figure size 432x288 with 1 Axes>"
      ]
     },
     "metadata": {},
     "output_type": "display_data"
    },
    {
     "name": "stdout",
     "output_type": "stream",
     "text": [
      "Sample 1: mean = 1.96, std. dev. = 1.24\n",
      "Sample 2: mean = 4.97, std. dev. = 1.54\n"
     ]
    }
   ],
   "source": [
    "sample1 = np.random.choice(pop1, 1000, replace=True)\n",
    "sample2 = np.random.choice(pop2, 1000, replace=True)\n",
    "\n",
    "# plot histograms\n",
    "plt.hist(sample1, color='blue', alpha=0.25, label='Sample 1')\n",
    "plt.hist(sample2, color='red', alpha=0.25, label='Sample 2')\n",
    "\n",
    "# pop1: add vertical lines for mean and +/- 1 standard deviation\n",
    "plt.axvline(sample1.mean(), color='blue', linestyle='solid', linewidth=2)\n",
    "plt.axvline(sample1.mean() + sample1.std(), color='blue', linestyle='dashed', linewidth=2)\n",
    "plt.axvline(sample1.mean() - sample1.std(), color='blue', linestyle='dashed', linewidth=2)\n",
    "\n",
    "# pop2: add vertical lines for mean and +/- 1 standard deviation\n",
    "plt.axvline(sample2.mean(), color='red', linestyle='solid', linewidth=2)\n",
    "plt.axvline(sample2.mean() + sample2.std(), color='red', linestyle='dashed', linewidth=2)\n",
    "plt.axvline(sample2.mean() - sample2.std(), color='red', linestyle='dashed', linewidth=2)\n",
    "\n",
    "plt.legend(loc='upper right')\n",
    "plt.show()\n",
    "\n",
    "# output mean and standard deviation\n",
    "print(\"Sample 1: mean = {0:.2f}, std. dev. = {1:.2f}\".format(sample1.mean(), sample1.std()))\n",
    "print(\"Sample 2: mean = {0:.2f}, std. dev. = {1:.2f}\".format(sample2.mean(), sample2.std()))"
   ]
  },
  {
   "cell_type": "markdown",
   "metadata": {},
   "source": [
    "## Generating samples with size 20"
   ]
  },
  {
   "cell_type": "code",
   "execution_count": 240,
   "metadata": {},
   "outputs": [
    {
     "data": {
      "image/png": "[encoded data removed]",
      "text/plain": [
       "<Figure size 432x288 with 1 Axes>"
      ]
     },
     "metadata": {},
     "output_type": "display_data"
    },
    {
     "name": "stdout",
     "output_type": "stream",
     "text": [
      "Sample 1: mean = 2.10, std. dev. = 1.45\n",
      "Sample 2: mean = 5.20, std. dev. = 1.03\n"
     ]
    }
   ],
   "source": [
    "sample1 = np.random.choice(pop1, 20, replace=True)\n",
    "sample2 = np.random.choice(pop2, 20, replace=True)\n",
    "\n",
    "# plot histograms\n",
    "plt.hist(sample1, color='blue', alpha=0.25, label='Sample 1')\n",
    "plt.hist(sample2, color='red', alpha=0.25, label='Sample 2')\n",
    "\n",
    "# pop1: add vertical lines for mean and +/- 1 standard deviation\n",
    "plt.axvline(sample1.mean(), color='blue', linestyle='solid', linewidth=2)\n",
    "plt.axvline(sample1.mean() + sample1.std(), color='blue', linestyle='dashed', linewidth=2)\n",
    "plt.axvline(sample1.mean() - sample1.std(), color='blue', linestyle='dashed', linewidth=2)\n",
    "\n",
    "# pop2: add vertical lines for mean and +/- 1 standard deviation\n",
    "plt.axvline(sample2.mean(), color='red', linestyle='solid', linewidth=2)\n",
    "plt.axvline(sample2.mean() + sample2.std(), color='red', linestyle='dashed', linewidth=2)\n",
    "plt.axvline(sample2.mean() - sample2.std(), color='red', linestyle='dashed', linewidth=2)\n",
    "\n",
    "plt.legend(loc='upper right')\n",
    "plt.show()\n",
    "\n",
    "# output mean and standard deviation\n",
    "print(\"Sample 1: mean = {0:.2f}, std. dev. = {1:.2f}\".format(sample1.mean(), sample1.std()))\n",
    "print(\"Sample 2: mean = {0:.2f}, std. dev. = {1:.2f}\".format(sample2.mean(), sample2.std()))"
   ]
  },
  {
   "cell_type": "markdown",
   "metadata": {},
   "source": [
    "### 1. Summary\n",
    "\n",
    "Population 1: mean = 1.99, std. dev. = 1.26<br>\n",
    "Population 2: mean = 5.01, std. dev. = 1.59\n",
    "\n",
    "For sample size 1000:<br>\n",
    "Sample 1: mean = 1.96, std. dev. = 1.24<br>\n",
    "Sample 2: mean = 4.97, std. dev. = 1.54\n",
    "\n",
    "For sample size 100:<br>\n",
    "Sample 1: mean = 2.03, std. dev. = 1.32<br>\n",
    "Sample 2: mean = 4.92, std. dev. = 1.24\n",
    "\n",
    "For sample size 20:<br>\n",
    "Sample 1: mean = 2.10, std. dev. = 1.45<br>\n",
    "Sample 2: mean = 5.20, std. dev. = 1.03\n",
    "\n",
    "We see that as sample size increases, the sample mean and standard deviation more accurately reflect the population mean and standard deviation."
   ]
  },
  {
   "cell_type": "markdown",
   "metadata": {},
   "source": [
    "### 2. Change the probability value (p) for population 1 to 0.3.  Then take new samples and compute the t-statistics and p-value.  Then change the probability value p for group 1 to 0.4, and do it again.  What changes and why?\n",
    "\n",
    "The t-value represents how large the difference in mean is between two samples relative to the amount of variance in the data.  The p-value represents the probability that the observed sample data would occur if the two population means were equal.\n",
    "\n",
    "As the two populations become more similar (have more similar probability values p), the t-value should decrease, and the p-value should increase.  "
   ]
  },
  {
   "cell_type": "code",
   "execution_count": 241,
   "metadata": {},
   "outputs": [],
   "source": [
    "pop1 = np.random.binomial(10, 0.3, 10000)\n",
    "pop2 = np.random.binomial(10, 0.5, 10000)"
   ]
  },
  {
   "cell_type": "code",
   "execution_count": 242,
   "metadata": {},
   "outputs": [
    {
     "data": {
      "image/png": "[encoded data removed]",
      "text/plain": [
       "<Figure size 432x288 with 1 Axes>"
      ]
     },
     "metadata": {},
     "output_type": "display_data"
    },
    {
     "name": "stdout",
     "output_type": "stream",
     "text": [
      "Sample 1: mean = 2.96, std. dev. = 1.44\n",
      "Sample 2: mean = 4.94, std. dev. = 1.52\n"
     ]
    }
   ],
   "source": [
    "sample1 = np.random.choice(pop1, 1000, replace=True)\n",
    "sample2 = np.random.choice(pop2, 1000, replace=True)\n",
    "\n",
    "# plot histograms\n",
    "plt.hist(sample1, color='blue', alpha=0.25, label='Sample 1')\n",
    "plt.hist(sample2, color='red', alpha=0.25, label='Sample 2')\n",
    "\n",
    "# pop1: add vertical lines for mean and +/- 1 standard deviation\n",
    "plt.axvline(sample1.mean(), color='blue', linestyle='solid', linewidth=2)\n",
    "plt.axvline(sample1.mean() + sample1.std(), color='blue', linestyle='dashed', linewidth=2)\n",
    "plt.axvline(sample1.mean() - sample1.std(), color='blue', linestyle='dashed', linewidth=2)\n",
    "\n",
    "# pop2: add vertical lines for mean and +/- 1 standard deviation\n",
    "plt.axvline(sample2.mean(), color='red', linestyle='solid', linewidth=2)\n",
    "plt.axvline(sample2.mean() + sample2.std(), color='red', linestyle='dashed', linewidth=2)\n",
    "plt.axvline(sample2.mean() - sample2.std(), color='red', linestyle='dashed', linewidth=2)\n",
    "\n",
    "plt.legend(loc='upper right')\n",
    "plt.show()\n",
    "\n",
    "# output mean and standard deviation\n",
    "print(\"Sample 1: mean = {0:.2f}, std. dev. = {1:.2f}\".format(sample1.mean(), sample1.std()))\n",
    "print(\"Sample 2: mean = {0:.2f}, std. dev. = {1:.2f}\".format(sample2.mean(), sample2.std()))"
   ]
  },
  {
   "cell_type": "code",
   "execution_count": 243,
   "metadata": {},
   "outputs": [
    {
     "name": "stdout",
     "output_type": "stream",
     "text": [
      "Sample 2 mean - Sample 1 mean = 2.00\n",
      "T-value = 29.79\n",
      "P-value = 1.73e-161\n"
     ]
    }
   ],
   "source": [
    "# compute difference between 2 population means\n",
    "mean_diff = sample2.mean() - sample1.mean()\n",
    "print(\"Sample 2 mean - Sample 1 mean = {0:.2f}\".format(pop2.mean() - pop1.mean()))\n",
    "\n",
    "# compute t- and p- values\n",
    "size = np.array([len(sample1), len(sample2)])\n",
    "sd = np.array([sample1.std(), sample2.std()])\n",
    "\n",
    "# squared standard deviations divided by sample size and summed,\n",
    "# then take square root of sum\n",
    "se_diff = (sum(sd ** 2 / size)) ** 0.5\n",
    "\n",
    "# difference between means divided by standard error: T-value\n",
    "print(\"T-value = {0:.2f}\".format(mean_diff/se_diff))\n",
    "\n",
    "# calculate corresponding P-value\n",
    "t_value, p_value = (ttest_ind(sample2, sample1, equal_var=False))\n",
    "print(\"P-value = {0:.2e}\".format(p_value))"
   ]
  },
  {
   "cell_type": "code",
   "execution_count": 244,
   "metadata": {},
   "outputs": [],
   "source": [
    "pop1 = np.random.binomial(10, 0.4, 10000)\n",
    "pop2 = np.random.binomial(10, 0.5, 10000)"
   ]
  },
  {
   "cell_type": "code",
   "execution_count": 245,
   "metadata": {},
   "outputs": [
    {
     "data": {
      "image/png": "[encoded data removed]",
      "text/plain": [
       "<Figure size 432x288 with 1 Axes>"
      ]
     },
     "metadata": {},
     "output_type": "display_data"
    },
    {
     "name": "stdout",
     "output_type": "stream",
     "text": [
      "Sample 1: mean = 3.97, std. dev. = 1.55\n",
      "Sample 2: mean = 5.06, std. dev. = 1.58\n"
     ]
    }
   ],
   "source": [
    "sample1 = np.random.choice(pop1, 1000, replace=True)\n",
    "sample2 = np.random.choice(pop2, 1000, replace=True)\n",
    "\n",
    "# plot histograms\n",
    "plt.hist(sample1, color='blue', alpha=0.25, label='Sample 1')\n",
    "plt.hist(sample2, color='red', alpha=0.25, label='Sample 2')\n",
    "\n",
    "# pop1: add vertical lines for mean and +/- 1 standard deviation\n",
    "plt.axvline(sample1.mean(), color='blue', linestyle='solid', linewidth=2)\n",
    "plt.axvline(sample1.mean() + sample1.std(), color='blue', linestyle='dashed', linewidth=2)\n",
    "plt.axvline(sample1.mean() - sample1.std(), color='blue', linestyle='dashed', linewidth=2)\n",
    "\n",
    "# pop2: add vertical lines for mean and +/- 1 standard deviation\n",
    "plt.axvline(sample2.mean(), color='red', linestyle='solid', linewidth=2)\n",
    "plt.axvline(sample2.mean() + sample2.std(), color='red', linestyle='dashed', linewidth=2)\n",
    "plt.axvline(sample2.mean() - sample2.std(), color='red', linestyle='dashed', linewidth=2)\n",
    "\n",
    "plt.legend(loc='upper right')\n",
    "plt.show()\n",
    "\n",
    "# output mean and standard deviation\n",
    "print(\"Sample 1: mean = {0:.2f}, std. dev. = {1:.2f}\".format(sample1.mean(), sample1.std()))\n",
    "print(\"Sample 2: mean = {0:.2f}, std. dev. = {1:.2f}\".format(sample2.mean(), sample2.std()))"
   ]
  },
  {
   "cell_type": "code",
   "execution_count": 246,
   "metadata": {},
   "outputs": [
    {
     "name": "stdout",
     "output_type": "stream",
     "text": [
      "Sample 2 mean - Sample 1 mean = 1.00\n",
      "T-value = 15.59\n",
      "P-value = 8.83e-52\n"
     ]
    }
   ],
   "source": [
    "# compute difference between 2 population means\n",
    "mean_diff = sample2.mean() - sample1.mean()\n",
    "print(\"Sample 2 mean - Sample 1 mean = {0:.2f}\".format(pop2.mean() - pop1.mean()))\n",
    "\n",
    "# compute t- and p- values\n",
    "size = np.array([len(sample1), len(sample2)])\n",
    "sd = np.array([sample1.std(), sample2.std()])\n",
    "\n",
    "# squared standard deviations divided by sample size and summed,\n",
    "# then take square root of sum\n",
    "se_diff = (sum(sd ** 2 / size)) ** 0.5\n",
    "\n",
    "# difference between means divided by standard error: T-value\n",
    "print(\"T-value = {0:.2f}\".format(mean_diff/se_diff))\n",
    "\n",
    "# calculate corresponding P-value\n",
    "t_value, p_value = (ttest_ind(sample2, sample1, equal_var=False))\n",
    "print(\"P-value = {0:.2e}\".format(p_value))"
   ]
  },
  {
   "cell_type": "markdown",
   "metadata": {},
   "source": [
    "### 2. Summary\n",
    "\n",
    "For two binomially distributed populations with n equal to 10 and size equal to 10000, and with probability 0.3 and 0.5 for the two populations:<br>\n",
    "Sample size = 1000<br>\n",
    "Sample 2 mean - Sample 1 mean = 2.00<br>\n",
    "T-value = 29.79<br>\n",
    "P-value = 1.73e-161<br>\n",
    "\n",
    "For two populations with probability values of 0.4 and 0.5:<br>\n",
    "Sample 2 mean - Sample 1 mean = 1.00<br>\n",
    "T-value = 15.59<br>\n",
    "P-value = 8.83e-52<br>\n",
    "\n",
    "We see that as the two populations become more similar, the t-value decreases, and the p-value increases.  Here, we see that the p-values are both very small, signifying that there is a very low probability that the distribution of data can be observed if the population means were equal."
   ]
  },
  {
   "cell_type": "markdown",
   "metadata": {},
   "source": [
    "### 3. Change the distribution of your populations from binomial to a distribution of your choice.  Do the sample mean values still accurately represent eh population values?\n",
    "\n",
    "As long as our sample size is large enough, the Central Limit Theorem states that the sample mean should be a good representation of the population mean."
   ]
  },
  {
   "cell_type": "code",
   "execution_count": 247,
   "metadata": {},
   "outputs": [
    {
     "data": {
      "image/png": "[encoded data removed]",
      "text/plain": [
       "<Figure size 720x360 with 2 Axes>"
      ]
     },
     "metadata": {},
     "output_type": "display_data"
    }
   ],
   "source": [
    "# choose power distribution\n",
    "a = 5\n",
    "power_pop = np.random.power(a, 10000)\n",
    "pop_mean = power_pop.mean()\n",
    "pop_std = power_pop.std()\n",
    "#normal_pop = np.random.normal(true_mean, true_stddev, 10000)\n",
    "\n",
    "# for various sample size, calculate sample mean and standard deviation\n",
    "sample_mean = []\n",
    "sample_std = []\n",
    "for samp_size in range(10, 5000, 10):\n",
    "    sample = np.random.choice(power_pop, samp_size, replace=True)\n",
    "    \n",
    "    # calculate sample statistics\n",
    "    sample_mean.append(sample.mean())\n",
    "    sample_std.append(sample.std())\n",
    "    \n",
    "# plot sample mean vs. sample size\n",
    "fig, axes = plt.subplots(nrows=1, ncols=2, figsize=(10,5))\n",
    "ax1 = plt.subplot(1, 2, 1)\n",
    "ax1.plot(list(range(10, 5000, 10)), sample_mean, color='blue', alpha=0.35, linewidth=2, label='Sample Mean')\n",
    "ax1.axhline(pop_mean, color='blue', linestyle='dashed', linewidth=2, label='Population Mean')\n",
    "ax1.set_xlabel('Sample Size', fontsize=15)\n",
    "ax1.set_ylabel('Sample Mean', fontsize=15)\n",
    "ax1.legend(loc='upper right')\n",
    "\n",
    "# plot sample standard deviation vs. sample size\n",
    "ax2 = plt.subplot(1, 2, 2)\n",
    "ax2.plot(list(range(10, 5000, 10)), sample_std, color='blue', alpha=0.35, linewidth=2, label='Sample Std. Dev.')\n",
    "ax2.axhline(pop_std, color='blue', linestyle='dashed', linewidth=2, label='Population Std. Dev.')\n",
    "ax2.set_xlabel('Sample Size', fontsize=15)\n",
    "ax2.set_ylabel('Sample Std. Dev.', fontsize=15)\n",
    "ax2.legend(loc='upper right')\n",
    "\n",
    "fig.tight_layout()\n",
    "plt.show()\n"
   ]
  },
  {
   "cell_type": "markdown",
   "metadata": {},
   "source": [
    "We see that as sample size increases, the sample mean and sample standard deviation approach the population mean and standard deviation (solid dashed lines)."
   ]
  }
 ],
 "metadata": {
  "kernelspec": {
   "display_name": "Python 3",
   "language": "python",
   "name": "python3"
  },
  "language_info": {
   "codemirror_mode": {
    "name": "ipython",
    "version": 3
   },
   "file_extension": ".py",
   "mimetype": "text/x-python",
   "name": "python",
   "nbconvert_exporter": "python",
   "pygments_lexer": "ipython3",
   "version": "3.6.5"
  }
 },
 "nbformat": 4,
 "nbformat_minor": 2
}
